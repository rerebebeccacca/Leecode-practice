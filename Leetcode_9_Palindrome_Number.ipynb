{
  "nbformat": 4,
  "nbformat_minor": 0,
  "metadata": {
    "colab": {
      "name": "Leetcode 9. Palindrome Number.ipynb",
      "provenance": [],
      "collapsed_sections": [],
      "authorship_tag": "ABX9TyNfrUnjHdoHO5BazZlso0Sr",
      "include_colab_link": true
    },
    "kernelspec": {
      "name": "python3",
      "display_name": "Python 3"
    },
    "language_info": {
      "name": "python"
    }
  },
  "cells": [
    {
      "cell_type": "markdown",
      "metadata": {
        "id": "view-in-github",
        "colab_type": "text"
      },
      "source": [
        "<a href=\"https://colab.research.google.com/github/rerebebeccacca/Leecode-practice/blob/main/Leetcode_9_Palindrome_Number.ipynb\" target=\"_parent\"><img src=\"https://colab.research.google.com/assets/colab-badge.svg\" alt=\"Open In Colab\"/></a>"
      ]
    },
    {
      "cell_type": "code",
      "metadata": {
        "id": "n3uQ_tTtUs_O"
      },
      "source": [
        "https://leetcode.com/problems/palindrome-number/\n",
        "\n",
        "'''\n",
        "Given an integer x, return true if x is palindrome integer.\n",
        "\n",
        "An integer is a palindrome when it reads the same backward as forward. For example, 121 is palindrome while 123 is not.\n",
        "\n",
        " \n",
        "\n",
        "Example 1:\n",
        "\n",
        "Input: x = 121\n",
        "Output: true\n",
        "Example 2:\n",
        "\n",
        "Input: x = -121\n",
        "Output: false\n",
        "Explanation: From left to right, it reads -121. From right to left, it becomes 121-. Therefore it is not a palindrome.\n",
        "Example 3:\n",
        "\n",
        "Input: x = 10\n",
        "Output: false\n",
        "Explanation: Reads 01 from right to left. Therefore it is not a palindrome.\n",
        "Example 4:\n",
        "\n",
        "Input: x = -101\n",
        "Output: false\n",
        "'''"
      ],
      "execution_count": null,
      "outputs": []
    },
    {
      "cell_type": "code",
      "metadata": {
        "id": "n7qcR6GBJzX7"
      },
      "source": [
        "# my submit 1：\n",
        "class Solution:\n",
        "    def isPalindrome(self, x: int) -> bool:\n",
        "        return str(x) == str(x)[::-1]\n",
        "        "
      ],
      "execution_count": null,
      "outputs": []
    },
    {
      "cell_type": "code",
      "metadata": {
        "id": "6oF3nIcWJ4Ap"
      },
      "source": [
        "# my submit 2:\n",
        "class Solution:\n",
        "    def isPalindrome(self, x: int) -> bool:\n",
        "        x2str1 = str(abs(x))\n",
        "        x2str2 = x2str1[::-1]\n",
        "        x2int = int(x2str2)\n",
        "        if x < 0:\n",
        "            return False\n",
        "        elif x != x2int:\n",
        "            return False\n",
        "        elif x2int < -2**31 or x2int > (2**31-1):\n",
        "            return False\n",
        "        elif x2str2[0] == '0'and x2int > 0:\n",
        "            return False\n",
        "        elif x2int == 0:\n",
        "            return True\n",
        "        else:\n",
        "            return True\n",
        "        "
      ],
      "execution_count": null,
      "outputs": []
    },
    {
      "cell_type": "code",
      "metadata": {
        "id": "qVAuG39mKOd9"
      },
      "source": [
        "# my submit 3:\n",
        "class Solution:\n",
        "    def isPalindrome(self, x: int) -> bool:\n",
        "        if x<2**31-1 and x>-2**31 :\n",
        "            if str(x) == str(x)[::-1]:\n",
        "                return 1\n",
        "            else:\n",
        "                return 0\n",
        "        else:\n",
        "            return 0\n",
        "        "
      ],
      "execution_count": null,
      "outputs": []
    },
    {
      "cell_type": "code",
      "metadata": {
        "colab": {
          "base_uri": "https://localhost:8080/"
        },
        "id": "xBu5s3KdD4a5",
        "outputId": "a3ba44f6-cf87-4ec8-ea0d-fa43f14492fc"
      },
      "source": [
        "#練習：\n",
        "\n",
        "x=123\n",
        "x2str1 = str(abs(x))\n",
        "# print(x2str)\n",
        "x2str2 = x2str1[::-1]\n",
        "# print(x2str2)\n",
        "x2int = int(x2str2)\n",
        "if x < 0:\n",
        "  print(False)\n",
        "  print(x2int)\n",
        "  print('1')\n",
        "elif x != x2int:\n",
        "  print(False)\n",
        "  print('2')\n",
        "elif x2int < -2**31 or x2int > (2**31-1):\n",
        "  print(False)\n",
        "  print(x2int)\n",
        "  print('3')\n",
        "elif x2str2[0] == '0'and x2int > 0:\n",
        "  print(False)\n",
        "  print(x2int)\n",
        "  print('4')\n",
        "elif x2int == 0:\n",
        "  print(True)\n",
        "  print('5')\n",
        "else:\n",
        "  print(True)\n",
        "  print(x2int)\n",
        "  print('6')"
      ],
      "execution_count": null,
      "outputs": [
        {
          "output_type": "stream",
          "name": "stdout",
          "text": [
            "False\n",
            "9\n"
          ]
        }
      ]
    },
    {
      "cell_type": "code",
      "metadata": {
        "colab": {
          "base_uri": "https://localhost:8080/"
        },
        "id": "MPw3d9WrNHf5",
        "outputId": "9b14dae3-81b7-492d-93b1-12783d4e928f"
      },
      "source": [
        "x=0\n",
        "x2l = list(str(x))\n",
        "x2l.reverse()\n",
        "x2str = ''\n",
        "for i in range(len(str(x))):\n",
        "  x2str += x2l[i]\n",
        "if str(x) == x2str:\n",
        "  print(True)\n",
        "else:\n",
        "  print(False)\n",
        "# for i in range(len(x2l)):\n",
        "#   x2str.append(x2l)\n",
        "#   print(x2str)\n"
      ],
      "execution_count": null,
      "outputs": [
        {
          "output_type": "stream",
          "name": "stdout",
          "text": [
            "True\n"
          ]
        }
      ]
    },
    {
      "cell_type": "code",
      "metadata": {
        "colab": {
          "base_uri": "https://localhost:8080/"
        },
        "id": "jHwhZNgsXYMo",
        "outputId": "c6b86144-9b03-43d3-f739-4502632ad3c3"
      },
      "source": [
        "x=121\n",
        "if x<2**31-1 and x>-2**31 :\n",
        "    if str(x) == str(x)[::-1]:\n",
        "        print(1)#1=True\n",
        "    else:\n",
        "        print(0)#0=False\n",
        "else:\n",
        "      print(0)\n"
      ],
      "execution_count": null,
      "outputs": [
        {
          "output_type": "stream",
          "name": "stdout",
          "text": [
            "True\n"
          ]
        }
      ]
    }
  ]
}