{
  "nbformat": 4,
  "nbformat_minor": 0,
  "metadata": {
    "colab": {
      "name": "Leetcode 13. Roman to Integer.ipynb",
      "provenance": [],
      "collapsed_sections": [],
      "authorship_tag": "ABX9TyOco7zZ68egAaSF55x0rWpu",
      "include_colab_link": true
    },
    "kernelspec": {
      "name": "python3",
      "display_name": "Python 3"
    },
    "language_info": {
      "name": "python"
    }
  },
  "cells": [
    {
      "cell_type": "markdown",
      "metadata": {
        "id": "view-in-github",
        "colab_type": "text"
      },
      "source": [
        "<a href=\"https://colab.research.google.com/github/rerebebeccacca/Leecode-practice/blob/main/Leetcode_13_Roman_to_Integer.ipynb\" target=\"_parent\"><img src=\"https://colab.research.google.com/assets/colab-badge.svg\" alt=\"Open In Colab\"/></a>"
      ]
    },
    {
      "cell_type": "code",
      "metadata": {
        "id": "wGDDbDR1eXF2"
      },
      "source": [
        "https://leetcode.com/problems/roman-to-integer/\n",
        "\n",
        "'''\n",
        "13. Roman to Integer\n",
        "\n",
        "Symbol       Value\n",
        "I             1\n",
        "V             5\n",
        "X             10\n",
        "L             50\n",
        "C             100\n",
        "D             500\n",
        "M             1000\n",
        "\n",
        "For example, 2 is written as II in Roman numeral, just two one's added together. 12 is written as XII, which is simply X + II. The number 27 is written as XXVII, which is XX + V + II.\n",
        "\n",
        "Roman numerals are usually written largest to smallest from left to right. However, the numeral for four is not IIII. Instead, the number four is written as IV. Because the one is before the five we subtract it making four. The same principle applies to the number nine, which is written as IX. There are six instances where subtraction is used:\n",
        "\n",
        "I can be placed before V (5) and X (10) to make 4 and 9. \n",
        "X can be placed before L (50) and C (100) to make 40 and 90. \n",
        "C can be placed before D (500) and M (1000) to make 400 and 900.\n",
        "Given a roman numeral, convert it to an integer.\n",
        "---------------\n",
        "Example 1:\n",
        "\n",
        "Input: s = \"III\"\n",
        "Output: 3\n",
        "---------------\n",
        "Example 2:\n",
        "\n",
        "Input: s = \"IV\"\n",
        "Output: 4\n",
        "'''"
      ],
      "execution_count": null,
      "outputs": []
    },
    {
      "cell_type": "code",
      "metadata": {
        "id": "i_qOnwMUBixJ"
      },
      "source": [
        "#最後submit:\n",
        "\n",
        "class Solution:\n",
        "    def romanToInt(self, s: str) -> int:\n",
        "        ROMAN = {\n",
        "          'I': 1 ,\n",
        "          'V' : 5 ,\n",
        "          \"X\": 10 ,\n",
        "          \"L\": 50 ,\n",
        "          \"C\": 100 ,\n",
        "          \"D\": 500 ,\n",
        "          \"M\": 1000 \n",
        "          }\n",
        "        if len(s) == 1:\n",
        "            return ROMAN[s[0]]\n",
        "        else :\n",
        "            if ROMAN[s[0]] >= ROMAN[s[1]]:\n",
        "                return ROMAN[s[0]] + Solution().romanToInt(s[1:])\n",
        "            else :\n",
        "                return -ROMAN[s[0]] + Solution().romanToInt(s[1:])\n",
        "        "
      ],
      "execution_count": null,
      "outputs": []
    },
    {
      "cell_type": "code",
      "metadata": {
        "id": "HS_JTTgYfHI0"
      },
      "source": [
        "#練習：\n",
        "\n",
        "# x = \"III\"\n",
        "def romanToInt(self, s: str) -> int:\n",
        "  ROMAN = {\n",
        "      'I': 1 ,\n",
        "      'V' : 5 ,\n",
        "      \"X\": 10 ,\n",
        "      \"L\": 50 ,\n",
        "      \"C\": 100 ,\n",
        "      \"D\": 500 ,\n",
        "      \"M\": 1000 \n",
        "      }\n",
        "  # s = s[::-1]\n",
        "  fin = 0\n",
        "  if len(s) == 1:\n",
        "    return fin + ROMAN[s[0]]\n",
        "  else :\n",
        "    if ROMAN[s[0]] >= ROMAN[s[1]]:\n",
        "      for i in range(len(s)):\n",
        "        fin += ROMAN[s[i]]\n",
        "        return fin\n",
        "    else :\n",
        "      return -ROMAN[s[0]] + Solution.romanToInt(s[1:])\n",
        "  \n",
        "  # elif len(s)==4:\n",
        "  #   fin = fin + ROMAN[s[0]]+ROMAN[s[1]]+ROMAN[s[2]]+ROMAN[s[3]]\n",
        "  \n",
        "\n",
        "\n",
        "# romanToInt(s,\"VII\")\n",
        "# print(s)\n"
      ],
      "execution_count": 9,
      "outputs": []
    },
    {
      "cell_type": "code",
      "metadata": {
        "id": "mmQ9gXRsHi7M"
      },
      "source": [
        "#厲害的寫法：\n",
        "class Solution:\n",
        "    def romanToInt(self, s: str) -> int:\n",
        "        convert = {'M': 1000, 'D': 500, 'C': 100, 'L': 50, 'X' : 10, 'V': 5, 'I': 1}\n",
        "        prevChar = 'I'\n",
        "        answer = 0\n",
        "        for char in s[::-1]:\n",
        "            if convert[char] >= convert[prevChar]:\n",
        "                answer += convert[char]\n",
        "                prevChar = char\n",
        "            else:\n",
        "                answer -= convert[char]\n",
        "        return answer"
      ],
      "execution_count": null,
      "outputs": []
    },
    {
      "cell_type": "code",
      "metadata": {
        "id": "VFvnlsmKMBRT",
        "colab": {
          "base_uri": "https://localhost:8080/"
        },
        "outputId": "b27f21ef-60e6-4dd3-cc4f-e2365df811f7"
      },
      "source": [
        "s='IIV'\n",
        "print(s[::-1])\n"
      ],
      "execution_count": 12,
      "outputs": [
        {
          "output_type": "stream",
          "name": "stdout",
          "text": [
            "VII\n",
            "2\n"
          ]
        }
      ]
    },
    {
      "cell_type": "code",
      "metadata": {
        "id": "o5lm2Mg4ip0k"
      },
      "source": [
        ""
      ],
      "execution_count": null,
      "outputs": []
    }
  ]
}