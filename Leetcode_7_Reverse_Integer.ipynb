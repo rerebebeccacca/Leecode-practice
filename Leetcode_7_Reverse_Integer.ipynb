{
  "nbformat": 4,
  "nbformat_minor": 0,
  "metadata": {
    "colab": {
      "name": "Leetcode-7.Reverse Integer.ipynb",
      "provenance": [],
      "collapsed_sections": [],
      "authorship_tag": "ABX9TyObgdvVI6PITtR5HXA15aaj",
      "include_colab_link": true
    },
    "kernelspec": {
      "name": "python3",
      "display_name": "Python 3"
    },
    "language_info": {
      "name": "python"
    }
  },
  "cells": [
    {
      "cell_type": "markdown",
      "metadata": {
        "id": "view-in-github",
        "colab_type": "text"
      },
      "source": [
        "<a href=\"https://colab.research.google.com/github/rerebebeccacca/Leecode-practice/blob/main/Leetcode_7_Reverse_Integer.ipynb\" target=\"_parent\"><img src=\"https://colab.research.google.com/assets/colab-badge.svg\" alt=\"Open In Colab\"/></a>"
      ]
    },
    {
      "cell_type": "code",
      "metadata": {
        "id": "W53orGLjJG3w"
      },
      "source": [
        "https://leetcode.com/problems/reverse-integer/\n",
        "\n",
        "Given a signed 32-bit integer x, return x with its digits reversed. If reversing x causes the value to go outside the signed 32-bit integer range [-231, 231 - 1], then return 0.\n",
        "\n",
        "Assume the environment does not allow you to store 64-bit integers (signed or unsigned).\n",
        "\n",
        " \n",
        "\n",
        "Example 1:\n",
        "\n",
        "Input: x = 123\n",
        "Output: 321\n",
        "Example 2:\n",
        "\n",
        "Input: x = -123\n",
        "Output: -321\n",
        "Example 3:\n",
        "\n",
        "Input: x = 120\n",
        "Output: 21"
      ],
      "execution_count": null,
      "outputs": []
    },
    {
      "cell_type": "code",
      "metadata": {
        "id": "vjtBv0AuJQK7"
      },
      "source": [
        "#my sunbmit:\n",
        "class Solution:\n",
        "    def reverse(self, x: int) -> int:\n",
        "        \n",
        "        x2str = str(abs(x))\n",
        "        x2str1 = x2str[::-1]\n",
        "        x2int = int(x2str1)\n",
        "        if x < 0:\n",
        "            x2int = -x2int\n",
        "        if x2int < -2**31 or x2int > (2**31-1):\n",
        "            x2int = 0\n",
        "        return x2int"
      ],
      "execution_count": null,
      "outputs": []
    },
    {
      "cell_type": "code",
      "metadata": {
        "colab": {
          "base_uri": "https://localhost:8080/"
        },
        "id": "8WIE_MfKwcpr",
        "outputId": "7c911f4d-b50c-49a2-bbc3-9d1c5122fb5d"
      },
      "source": [
        "x = 120\n",
        "\n",
        "x2str1 = str(abs(x))\n",
        "x2str2 = x2str1[::-1]\n",
        "x2int = int(x2str2)\n",
        "if x < 0:\n",
        "  x2int = -x2int\n",
        "elif x2int<-2**31 or x2int>(2**31-1):\n",
        "  x2int = 0\n",
        "print(x2int)"
      ],
      "execution_count": null,
      "outputs": [
        {
          "output_type": "stream",
          "name": "stdout",
          "text": [
            "21\n"
          ]
        }
      ]
    },
    {
      "cell_type": "code",
      "metadata": {
        "id": "w1evQLii1bSZ"
      },
      "source": [
        "# x=-122\n",
        "\n",
        "# x2str=str(x)\n",
        "# print(x2L)"
      ],
      "execution_count": null,
      "outputs": []
    },
    {
      "cell_type": "code",
      "metadata": {
        "colab": {
          "base_uri": "https://localhost:8080/"
        },
        "id": "Uy0TVKxd3pud",
        "outputId": "c57e53c5-24ad-4bda-faa5-32a3cde67d6e"
      },
      "source": [
        "x = []\n",
        "for i in range(1,11,2): \n",
        "  x += [i]\n",
        "print(x)"
      ],
      "execution_count": null,
      "outputs": [
        {
          "output_type": "stream",
          "name": "stdout",
          "text": [
            "[1, 3, 5, 7, 9]\n"
          ]
        }
      ]
    },
    {
      "cell_type": "code",
      "metadata": {
        "colab": {
          "base_uri": "https://localhost:8080/"
        },
        "id": "nGIeO8Wl5CJe",
        "outputId": "868a8660-f9bf-4ab8-81aa-9dc7fa82b173"
      },
      "source": [
        "x = [i for i in range(1,11,2)]\n",
        "print(x)"
      ],
      "execution_count": null,
      "outputs": [
        {
          "output_type": "stream",
          "name": "stdout",
          "text": [
            "[1, 3, 5, 7, 9]\n"
          ]
        }
      ]
    },
    {
      "cell_type": "code",
      "metadata": {
        "colab": {
          "base_uri": "https://localhost:8080/"
        },
        "id": "yuVJzsGM5k1K",
        "outputId": "23da5b0a-8968-418c-a578-c405f1eaaac2"
      },
      "source": [
        "print(range(1,3,3))"
      ],
      "execution_count": null,
      "outputs": [
        {
          "output_type": "stream",
          "name": "stdout",
          "text": [
            "range(1, 3, 3)\n"
          ]
        }
      ]
    },
    {
      "cell_type": "code",
      "metadata": {
        "colab": {
          "base_uri": "https://localhost:8080/"
        },
        "id": "DniSeTgr53AR",
        "outputId": "eaf184ce-c23c-4c17-8749-7d4a86a8eb4d"
      },
      "source": [
        "x1 = list(range(11,1,-1))\n",
        "x = x1[::-1]\n",
        "y = x1[-2:1:-2]\n",
        "print(x1)\n",
        "print(x)\n",
        "print(y)"
      ],
      "execution_count": null,
      "outputs": [
        {
          "output_type": "stream",
          "name": "stdout",
          "text": [
            "[11, 10, 9, 8, 7, 6, 5, 4, 3, 2]\n",
            "[2, 3, 4, 5, 6, 7, 8, 9, 10, 11]\n",
            "[3, 5, 7, 9]\n"
          ]
        }
      ]
    },
    {
      "cell_type": "code",
      "metadata": {
        "colab": {
          "base_uri": "https://localhost:8080/"
        },
        "id": "7tTVryEm66Xl",
        "outputId": "72a53f83-85ce-4830-ccc0-e8db83ce0ac7"
      },
      "source": [
        "list(range(1,11,2))"
      ],
      "execution_count": null,
      "outputs": [
        {
          "output_type": "execute_result",
          "data": {
            "text/plain": [
              "[1, 3, 5, 7, 9]"
            ]
          },
          "metadata": {},
          "execution_count": 48
        }
      ]
    },
    {
      "cell_type": "code",
      "metadata": {
        "colab": {
          "base_uri": "https://localhost:8080/"
        },
        "id": "6grmOqhw6uRZ",
        "outputId": "aa198054-1531-4553-ed81-304cc556def6"
      },
      "source": [
        "list(range(1,11,-1))"
      ],
      "execution_count": null,
      "outputs": [
        {
          "output_type": "execute_result",
          "data": {
            "text/plain": [
              "[]"
            ]
          },
          "metadata": {},
          "execution_count": 46
        }
      ]
    },
    {
      "cell_type": "code",
      "metadata": {
        "id": "30rykyKT65vH"
      },
      "source": [
        ""
      ],
      "execution_count": null,
      "outputs": []
    }
  ]
}