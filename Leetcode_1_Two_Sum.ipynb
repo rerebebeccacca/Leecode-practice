{
  "nbformat": 4,
  "nbformat_minor": 0,
  "metadata": {
    "colab": {
      "name": "Leetcode 1. Two Sum",
      "provenance": [],
      "collapsed_sections": [],
      "authorship_tag": "ABX9TyN9FzRHXvbkuFjO1KtvvEOm",
      "include_colab_link": true
    },
    "kernelspec": {
      "name": "python3",
      "display_name": "Python 3"
    },
    "language_info": {
      "name": "python"
    }
  },
  "cells": [
    {
      "cell_type": "markdown",
      "metadata": {
        "id": "view-in-github",
        "colab_type": "text"
      },
      "source": [
        "<a href=\"https://colab.research.google.com/github/rerebebeccacca/Leecode-practice/blob/main/Leetcode_1_Two_Sum.ipynb\" target=\"_parent\"><img src=\"https://colab.research.google.com/assets/colab-badge.svg\" alt=\"Open In Colab\"/></a>"
      ]
    },
    {
      "cell_type": "code",
      "metadata": {
        "id": "qJfmLdqEIhD1"
      },
      "source": [
        "https://leetcode.com/problems/two-sum/\n",
        "\n",
        "\n",
        "Given an array of integers nums and an integer target, return indices of the two numbers such that they add up to target.\n",
        "\n",
        "You may assume that each input would have exactly one solution, and you may not use the same element twice.\n",
        "\n",
        "You can return the answer in any order.\n",
        "\n",
        " \n",
        "\n",
        "Example 1:\n",
        "\n",
        "Input: nums = [2,7,11,15], target = 9\n",
        "Output: [0,1]\n",
        "Output: Because nums[0] + nums[1] == 9, we return [0, 1]."
      ],
      "execution_count": null,
      "outputs": []
    },
    {
      "cell_type": "code",
      "metadata": {
        "id": "Gi83VFRKHxbx"
      },
      "source": [
        "# Submit:\n",
        "\n",
        "class Solution:\n",
        "    def twoSum(self, nums: List[int], target: int) -> List[int]:\n",
        "        for i,num1 in enumerate(nums):\n",
        "            for j,num2 in enumerate(nums):\n",
        "                if i==j :\n",
        "                    break\n",
        "                elif num1+num2==target:\n",
        "                    return(j,i)\n",
        "        "
      ],
      "execution_count": null,
      "outputs": []
    }
  ]
}